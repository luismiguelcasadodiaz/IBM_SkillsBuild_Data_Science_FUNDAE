{
 "cells": [
  {
   "cell_type": "markdown",
   "id": "e6990119-a7a4-4dba-9bda-3b28fd3d33f7",
   "metadata": {},
   "source": [
    "# Data Science Tools and Ecosystem"
   ]
  },
  {
   "attachments": {},
   "cell_type": "markdown",
   "id": "9ef3a866-0f8e-4e3a-a1cb-762920ed7054",
   "metadata": {},
   "source": [
    "## In this notebook, Data Science Tools and Ecosystem are summarized."
   ]
  },
  {
   "cell_type": "markdown",
   "id": "48065d11-0883-477c-a450-e035bf98dc0f",
   "metadata": {},
   "source": [
    "**Objectives:**\n",
    "+ List popular languages for Data science\n",
    "+ List popular integrated develpment enviroments\n",
    "+ Test basic Python Arithmetics"
   ]
  },
  {
   "cell_type": "markdown",
   "id": "0b3d2415-f149-409f-bc5e-1fdb5591db08",
   "metadata": {},
   "source": [
    "Some of the popular languages that Data Scientists use are:\n",
    "1. python\n",
    "2. R\n",
    "3. SQL"
   ]
  },
  {
   "cell_type": "markdown",
   "id": "1a8bfdf7-23f6-4243-bbbd-1505ba26b809",
   "metadata": {},
   "source": [
    "Some of the commonly used libraries used by Data Scientists include:\n",
    "1. numpy\n",
    "2. pandas\n",
    "3. plotly\n",
    "4. scikit-learn"
   ]
  },
  {
   "cell_type": "markdown",
   "id": "6e09adef-f130-4c67-a806-32a1e0163d93",
   "metadata": {},
   "source": [
    "|Data Science Tools|\n",
    "|:----------------:|\n",
    "|Spyder|\n",
    "|R Studio|\n",
    "|Visual studio Code|"
   ]
  },
  {
   "cell_type": "markdown",
   "id": "6225115d-d11f-4572-b4f0-df68c432c147",
   "metadata": {},
   "source": [
    "### Below are a few examples of evaluating arithmetic expressions in Python"
   ]
  },
  {
   "cell_type": "code",
   "execution_count": 11,
   "id": "3f7cd8b6-dffe-4fd4-a38a-7fcdf69f2983",
   "metadata": {},
   "outputs": [
    {
     "data": {
      "text/plain": [
       "17"
      ]
     },
     "execution_count": 11,
     "metadata": {},
     "output_type": "execute_result"
    }
   ],
   "source": [
    "# This a simple arithmetic expression to mutiply then add integers\n",
    "(3 * 4) + 5"
   ]
  },
  {
   "cell_type": "code",
   "execution_count": 15,
   "id": "2afef252-5458-4ab9-8812-3fe73d21146a",
   "metadata": {},
   "outputs": [
    {
     "data": {
      "text/plain": [
       "3.3333333333333335"
      ]
     },
     "execution_count": 15,
     "metadata": {},
     "output_type": "execute_result"
    }
   ],
   "source": [
    "# This will convert 200 minutes to hours by diving by 60\n",
    "time_m = 200\n",
    "time_h = time_m / 60\n",
    "time_h"
   ]
  },
  {
   "cell_type": "markdown",
   "id": "cc88172c-0224-46f7-b3d2-8c161a65ad10",
   "metadata": {},
   "source": [
    "## Author\n",
    "Luis Miguel Casado Díaz"
   ]
  },
  {
   "cell_type": "code",
   "execution_count": null,
   "id": "56ad8818-4eaa-4d2e-9e89-53a7af457d23",
   "metadata": {},
   "outputs": [],
   "source": []
  }
 ],
 "metadata": {
  "kernelspec": {
   "display_name": "Python 3 (ipykernel)",
   "language": "python",
   "name": "python3"
  },
  "language_info": {
   "codemirror_mode": {
    "name": "ipython",
    "version": 3
   },
   "file_extension": ".py",
   "mimetype": "text/x-python",
   "name": "python",
   "nbconvert_exporter": "python",
   "pygments_lexer": "ipython3",
   "version": "3.12.4"
  }
 },
 "nbformat": 4,
 "nbformat_minor": 5
}
